{
 "cells": [
  {
   "cell_type": "code",
   "execution_count": 2,
   "id": "8f8727f9",
   "metadata": {},
   "outputs": [],
   "source": [
    "import numpy as np\n",
    "import pandas as pd\n",
    "import xgboost as xgb\n",
    "from sklearn.preprocessing import LabelEncoder"
   ]
  },
  {
   "cell_type": "code",
   "execution_count": 3,
   "id": "cba0967f",
   "metadata": {},
   "outputs": [
    {
     "name": "stdout",
     "output_type": "stream",
     "text": [
      "Read data\n"
     ]
    }
   ],
   "source": [
    "print('Read data')\n",
    "train = pd.read_csv('train.csv')\n",
    "test = pd.read_csv('test.csv')"
   ]
  },
  {
   "cell_type": "code",
   "execution_count": 4,
   "id": "070d258c",
   "metadata": {},
   "outputs": [],
   "source": [
    "# datetime 형태로 변형 => datetype을 변경하면 시간대별 추출이 쉬움\n",
    "train['pickup_datetime'] = pd.to_datetime(train['pickup_datetime'])\n",
    "test['pickup_datetime'] = pd.to_datetime(test['pickup_datetime'])"
   ]
  },
  {
   "cell_type": "code",
   "execution_count": 5,
   "id": "875ca928",
   "metadata": {},
   "outputs": [],
   "source": [
    "# store and fwd flag 컬럼 데이터를 label encoder 변환을 통해 수치형 데이터로\n",
    "le = LabelEncoder()\n",
    "le.fit(train['store_and_fwd_flag'])\n",
    "train['store_and_fwd_flag'] = le.transform(train['store_and_fwd_flag'])\n",
    "test['store_and_fwd_flag'] = le.transform(test['store_and_fwd_flag'])"
   ]
  },
  {
   "cell_type": "code",
   "execution_count": 6,
   "id": "76d5f09b",
   "metadata": {},
   "outputs": [
    {
     "name": "stdout",
     "output_type": "stream",
     "text": [
      "Create features\n"
     ]
    }
   ],
   "source": [
    "# 새로운 피처 생성 1. datetime 데이터에서 월, 일, 요일, 시간, 분을 추출\n",
    "print('Create features')\n",
    "train['month'] = train['pickup_datetime'].dt.month\n",
    "train['day'] = train['pickup_datetime'].dt.day\n",
    "train['weekday'] = train['pickup_datetime'].dt.weekday\n",
    "train['hour'] = train['pickup_datetime'].dt.hour\n",
    "train['minute'] = train['pickup_datetime'].dt.minute\n",
    "\n",
    "test['month'] = test['pickup_datetime'].dt.month\n",
    "test['day'] = test['pickup_datetime'].dt.day\n",
    "test['weekday'] = test['pickup_datetime'].dt.weekday\n",
    "test['hour'] = test['pickup_datetime'].dt.hour\n",
    "test['minute'] = test['pickup_datetime'].dt.minute"
   ]
  },
  {
   "cell_type": "code",
   "execution_count": 7,
   "id": "bb4e590b",
   "metadata": {},
   "outputs": [],
   "source": [
    "# 새로운 피처 생성 2. 픽업, 드랍 거리 측정\n",
    "# longitude distance\n",
    "train['dist_long'] = train['pickup_longitude'] - train['dropoff_longitude']\n",
    "test['dist_long'] = test['pickup_longitude'] - test['dropoff_longitude']\n",
    "\n",
    "# latitude distance\n",
    "train['dist_lat'] = train['pickup_latitude'] - train['pickup_latitude']\n",
    "test['dist_lat'] = test['pickup_latitude'] - test['pickup_latitude']\n",
    "\n",
    "# distance : 피타고라스 정리를 이용하여 거리 측정\n",
    "train['dist'] = np.sqrt(np.square(train['dist_long']) + np.square(train['dist_lat']))\n",
    "test['dist'] = np.sqrt(np.square(test['dist_long']) + np.square(test['dist_lat']))"
   ]
  },
  {
   "cell_type": "code",
   "execution_count": 8,
   "id": "b9a5495e",
   "metadata": {},
   "outputs": [],
   "source": [
    "# spatial features : count and speed\n",
    "# 픽업 드랍 위치를 소수점 셋째자리까지\n",
    "train['pickup_longitude_bin'] = np.round(train['pickup_longitude'],2)\n",
    "train['pickup_latitude_bin'] = np.round(train['pickup_latitude'],2)\n",
    "train['dropoff_longitude_bin'] = np.round(train['dropoff_longitude'],2)\n",
    "train['dropoff_latitude_bin'] = np.round(train['dropoff_latitude'],2)\n",
    "\n",
    "test['pickup_longitude_bin'] = np.round(test['pickup_longitude'],2)\n",
    "test['pickup_latitude_bin'] = np.round(test['pickup_latitude'],2)\n",
    "test['dropoff_longitude_bin'] = np.round(test['dropoff_longitude'],2)\n",
    "test['dropoff_latitude_bin'] = np.round(test['dropoff_latitude'],2)\n",
    "\n",
    "# count features\n",
    "# train test을 합치고 pickup 위도와 경도로 묶어줌 -> size 함수로 각 위치에 데이터가 몇개 있는지 a, b 객체에 저장\n",
    "a = pd.concat([train, test]).groupby(['pickup_longitude_bin', 'pickup_latitude_bin']).size().reset_index()\n",
    "b = pd.concat([train, test]).groupby(['dropoff_longitude_bin', 'dropoff_latitude_bin']).size().reset_index()\n",
    "\n",
    "# train data와 각 위치별 몇개의 데이터가 있는지 저장된 객체 a를 left join해줌\n",
    "train = pd.merge(train, a, on=['pickup_longitude_bin', 'pickup_latitude_bin'], how='left')\n",
    "test = pd.merge(test, a, on=['pickup_longitude_bin', 'pickup_latitude_bin'], how='left')\n",
    "\n",
    "train = pd.merge(train, b, on=['dropoff_longitude_bin', 'dropoff_latitude_bin'], how='left')\n",
    "test = pd.merge(test, b, on=['dropoff_longitude_bin', 'dropoff_latitude_bin'], how='left')\n"
   ]
  },
  {
   "cell_type": "code",
   "execution_count": 9,
   "id": "4786732b",
   "metadata": {},
   "outputs": [],
   "source": [
    "#speed features : 100000 * 거리 / 시간 : 거리단위가 위도, 경도 단위인데 speed 단위가 가능한가?\n",
    "train['speed'] = 100000 * train['dist'] / train['trip_duration']"
   ]
  },
  {
   "cell_type": "code",
   "execution_count": 12,
   "id": "d62ef67a",
   "metadata": {},
   "outputs": [],
   "source": [
    "# train data에서 픽업 위도 경도 별로 그룹핑 한 후 속도의 평균을 구한 a 객체 생성\n",
    "a = train[['speed', 'pickup_longitude_bin', 'pickup_latitude_bin']].groupby(['pickup_longitude_bin', 'pickup_latitude_bin']).mean().reset_index()\n",
    "a = a.rename(columns = {'speed' : 'ave_speed'})\n",
    "b = train[['speed', 'dropoff_longitude_bin', 'dropoff_latitude_bin']].groupby(['dropoff_longitude_bin', 'dropoff_latitude_bin']).mean().reset_index()\n",
    "b = b.rename(columns = {'speed' : 'ave_speed'})"
   ]
  },
  {
   "cell_type": "code",
   "execution_count": 17,
   "id": "03aa6b88",
   "metadata": {},
   "outputs": [
    {
     "name": "stderr",
     "output_type": "stream",
     "text": [
      "/var/folders/cx/dsw_f6590_dbbf9c4vf4fyy40000gn/T/ipykernel_98470/1918731123.py:2: FutureWarning: Passing 'suffixes' which cause duplicate columns {'ave_speed_x'} in the result is deprecated and will raise a MergeError in a future version.\n",
      "  train = pd.merge(train, a, on = ['pickup_longitude_bin', 'pickup_latitude_bin'], how = 'left')\n",
      "/var/folders/cx/dsw_f6590_dbbf9c4vf4fyy40000gn/T/ipykernel_98470/1918731123.py:6: FutureWarning: Passing 'suffixes' which cause duplicate columns {'ave_speed_x'} in the result is deprecated and will raise a MergeError in a future version.\n",
      "  test = pd.merge(test, b, on = ['dropoff_longitude_bin', 'dropoff_latitude_bin'], how = 'left')\n"
     ]
    }
   ],
   "source": [
    "# 원래 train, test data에 위치별 평균 스피드 추가하기\n",
    "train = pd.merge(train, a, on = ['pickup_longitude_bin', 'pickup_latitude_bin'], how = 'left')\n",
    "test = pd.merge(test, a, on = ['pickup_longitude_bin', 'pickup_latitude_bin'], how = 'left')\n",
    "\n",
    "train = pd.merge(train, b, on = ['dropoff_longitude_bin', 'dropoff_latitude_bin'], how = 'left')\n",
    "test = pd.merge(test, b, on = ['dropoff_longitude_bin', 'dropoff_latitude_bin'], how = 'left')\n"
   ]
  },
  {
   "cell_type": "code",
   "execution_count": 19,
   "id": "6abe5967",
   "metadata": {
    "collapsed": true
   },
   "outputs": [
    {
     "ename": "KeyError",
     "evalue": "\"['speed' 'pickup_longitude_bin' 'pickup_latitude_bin'\\n 'dropoff_longitude_bin' 'dropoff_latitude_bin'] not found in axis\"",
     "output_type": "error",
     "traceback": [
      "\u001b[0;31m---------------------------------------------------------------------------\u001b[0m",
      "\u001b[0;31mKeyError\u001b[0m                                  Traceback (most recent call last)",
      "\u001b[0;32m/var/folders/cx/dsw_f6590_dbbf9c4vf4fyy40000gn/T/ipykernel_98470/528597089.py\u001b[0m in \u001b[0;36m<module>\u001b[0;34m\u001b[0m\n\u001b[1;32m      1\u001b[0m \u001b[0;31m# drop bins\u001b[0m\u001b[0;34m\u001b[0m\u001b[0;34m\u001b[0m\u001b[0m\n\u001b[1;32m      2\u001b[0m \u001b[0mtrain\u001b[0m \u001b[0;34m=\u001b[0m \u001b[0mtrain\u001b[0m\u001b[0;34m.\u001b[0m\u001b[0mdrop\u001b[0m\u001b[0;34m(\u001b[0m\u001b[0;34m[\u001b[0m\u001b[0;34m'speed'\u001b[0m\u001b[0;34m,\u001b[0m \u001b[0;34m'pickup_longitude_bin'\u001b[0m\u001b[0;34m,\u001b[0m \u001b[0;34m'pickup_latitude_bin'\u001b[0m\u001b[0;34m,\u001b[0m \u001b[0;34m'dropoff_longitude_bin'\u001b[0m\u001b[0;34m,\u001b[0m \u001b[0;34m'dropoff_latitude_bin'\u001b[0m\u001b[0;34m]\u001b[0m\u001b[0;34m,\u001b[0m \u001b[0maxis\u001b[0m \u001b[0;34m=\u001b[0m \u001b[0;36m1\u001b[0m\u001b[0;34m)\u001b[0m\u001b[0;34m\u001b[0m\u001b[0;34m\u001b[0m\u001b[0m\n\u001b[0;32m----> 3\u001b[0;31m \u001b[0mtest\u001b[0m \u001b[0;34m=\u001b[0m \u001b[0mtest\u001b[0m\u001b[0;34m.\u001b[0m\u001b[0mdrop\u001b[0m\u001b[0;34m(\u001b[0m\u001b[0;34m[\u001b[0m\u001b[0;34m'speed'\u001b[0m\u001b[0;34m,\u001b[0m \u001b[0;34m'pickup_longitude_bin'\u001b[0m\u001b[0;34m,\u001b[0m \u001b[0;34m'pickup_latitude_bin'\u001b[0m\u001b[0;34m,\u001b[0m \u001b[0;34m'dropoff_longitude_bin'\u001b[0m\u001b[0;34m,\u001b[0m \u001b[0;34m'dropoff_latitude_bin'\u001b[0m\u001b[0;34m]\u001b[0m\u001b[0;34m,\u001b[0m \u001b[0maxis\u001b[0m \u001b[0;34m=\u001b[0m \u001b[0;36m1\u001b[0m\u001b[0;34m)\u001b[0m\u001b[0;34m\u001b[0m\u001b[0;34m\u001b[0m\u001b[0m\n\u001b[0m\u001b[1;32m      4\u001b[0m \u001b[0;34m\u001b[0m\u001b[0m\n",
      "\u001b[0;32m~/opt/anaconda3/lib/python3.9/site-packages/pandas/util/_decorators.py\u001b[0m in \u001b[0;36mwrapper\u001b[0;34m(*args, **kwargs)\u001b[0m\n\u001b[1;32m    309\u001b[0m                     \u001b[0mstacklevel\u001b[0m\u001b[0;34m=\u001b[0m\u001b[0mstacklevel\u001b[0m\u001b[0;34m,\u001b[0m\u001b[0;34m\u001b[0m\u001b[0;34m\u001b[0m\u001b[0m\n\u001b[1;32m    310\u001b[0m                 )\n\u001b[0;32m--> 311\u001b[0;31m             \u001b[0;32mreturn\u001b[0m \u001b[0mfunc\u001b[0m\u001b[0;34m(\u001b[0m\u001b[0;34m*\u001b[0m\u001b[0margs\u001b[0m\u001b[0;34m,\u001b[0m \u001b[0;34m**\u001b[0m\u001b[0mkwargs\u001b[0m\u001b[0;34m)\u001b[0m\u001b[0;34m\u001b[0m\u001b[0;34m\u001b[0m\u001b[0m\n\u001b[0m\u001b[1;32m    312\u001b[0m \u001b[0;34m\u001b[0m\u001b[0m\n\u001b[1;32m    313\u001b[0m         \u001b[0;32mreturn\u001b[0m \u001b[0mwrapper\u001b[0m\u001b[0;34m\u001b[0m\u001b[0;34m\u001b[0m\u001b[0m\n",
      "\u001b[0;32m~/opt/anaconda3/lib/python3.9/site-packages/pandas/core/frame.py\u001b[0m in \u001b[0;36mdrop\u001b[0;34m(self, labels, axis, index, columns, level, inplace, errors)\u001b[0m\n\u001b[1;32m   4955\u001b[0m                 \u001b[0mweight\u001b[0m  \u001b[0;36m1.0\u001b[0m     \u001b[0;36m0.8\u001b[0m\u001b[0;34m\u001b[0m\u001b[0;34m\u001b[0m\u001b[0m\n\u001b[1;32m   4956\u001b[0m         \"\"\"\n\u001b[0;32m-> 4957\u001b[0;31m         return super().drop(\n\u001b[0m\u001b[1;32m   4958\u001b[0m             \u001b[0mlabels\u001b[0m\u001b[0;34m=\u001b[0m\u001b[0mlabels\u001b[0m\u001b[0;34m,\u001b[0m\u001b[0;34m\u001b[0m\u001b[0;34m\u001b[0m\u001b[0m\n\u001b[1;32m   4959\u001b[0m             \u001b[0maxis\u001b[0m\u001b[0;34m=\u001b[0m\u001b[0maxis\u001b[0m\u001b[0;34m,\u001b[0m\u001b[0;34m\u001b[0m\u001b[0;34m\u001b[0m\u001b[0m\n",
      "\u001b[0;32m~/opt/anaconda3/lib/python3.9/site-packages/pandas/core/generic.py\u001b[0m in \u001b[0;36mdrop\u001b[0;34m(self, labels, axis, index, columns, level, inplace, errors)\u001b[0m\n\u001b[1;32m   4265\u001b[0m         \u001b[0;32mfor\u001b[0m \u001b[0maxis\u001b[0m\u001b[0;34m,\u001b[0m \u001b[0mlabels\u001b[0m \u001b[0;32min\u001b[0m \u001b[0maxes\u001b[0m\u001b[0;34m.\u001b[0m\u001b[0mitems\u001b[0m\u001b[0;34m(\u001b[0m\u001b[0;34m)\u001b[0m\u001b[0;34m:\u001b[0m\u001b[0;34m\u001b[0m\u001b[0;34m\u001b[0m\u001b[0m\n\u001b[1;32m   4266\u001b[0m             \u001b[0;32mif\u001b[0m \u001b[0mlabels\u001b[0m \u001b[0;32mis\u001b[0m \u001b[0;32mnot\u001b[0m \u001b[0;32mNone\u001b[0m\u001b[0;34m:\u001b[0m\u001b[0;34m\u001b[0m\u001b[0;34m\u001b[0m\u001b[0m\n\u001b[0;32m-> 4267\u001b[0;31m                 \u001b[0mobj\u001b[0m \u001b[0;34m=\u001b[0m \u001b[0mobj\u001b[0m\u001b[0;34m.\u001b[0m\u001b[0m_drop_axis\u001b[0m\u001b[0;34m(\u001b[0m\u001b[0mlabels\u001b[0m\u001b[0;34m,\u001b[0m \u001b[0maxis\u001b[0m\u001b[0;34m,\u001b[0m \u001b[0mlevel\u001b[0m\u001b[0;34m=\u001b[0m\u001b[0mlevel\u001b[0m\u001b[0;34m,\u001b[0m \u001b[0merrors\u001b[0m\u001b[0;34m=\u001b[0m\u001b[0merrors\u001b[0m\u001b[0;34m)\u001b[0m\u001b[0;34m\u001b[0m\u001b[0;34m\u001b[0m\u001b[0m\n\u001b[0m\u001b[1;32m   4268\u001b[0m \u001b[0;34m\u001b[0m\u001b[0m\n\u001b[1;32m   4269\u001b[0m         \u001b[0;32mif\u001b[0m \u001b[0minplace\u001b[0m\u001b[0;34m:\u001b[0m\u001b[0;34m\u001b[0m\u001b[0;34m\u001b[0m\u001b[0m\n",
      "\u001b[0;32m~/opt/anaconda3/lib/python3.9/site-packages/pandas/core/generic.py\u001b[0m in \u001b[0;36m_drop_axis\u001b[0;34m(self, labels, axis, level, errors, consolidate, only_slice)\u001b[0m\n\u001b[1;32m   4338\u001b[0m                 \u001b[0mlabels_missing\u001b[0m \u001b[0;34m=\u001b[0m \u001b[0;34m(\u001b[0m\u001b[0maxis\u001b[0m\u001b[0;34m.\u001b[0m\u001b[0mget_indexer_for\u001b[0m\u001b[0;34m(\u001b[0m\u001b[0mlabels\u001b[0m\u001b[0;34m)\u001b[0m \u001b[0;34m==\u001b[0m \u001b[0;34m-\u001b[0m\u001b[0;36m1\u001b[0m\u001b[0;34m)\u001b[0m\u001b[0;34m.\u001b[0m\u001b[0many\u001b[0m\u001b[0;34m(\u001b[0m\u001b[0;34m)\u001b[0m\u001b[0;34m\u001b[0m\u001b[0;34m\u001b[0m\u001b[0m\n\u001b[1;32m   4339\u001b[0m                 \u001b[0;32mif\u001b[0m \u001b[0merrors\u001b[0m \u001b[0;34m==\u001b[0m \u001b[0;34m\"raise\"\u001b[0m \u001b[0;32mand\u001b[0m \u001b[0mlabels_missing\u001b[0m\u001b[0;34m:\u001b[0m\u001b[0;34m\u001b[0m\u001b[0;34m\u001b[0m\u001b[0m\n\u001b[0;32m-> 4340\u001b[0;31m                     \u001b[0;32mraise\u001b[0m \u001b[0mKeyError\u001b[0m\u001b[0;34m(\u001b[0m\u001b[0;34mf\"{labels} not found in axis\"\u001b[0m\u001b[0;34m)\u001b[0m\u001b[0;34m\u001b[0m\u001b[0;34m\u001b[0m\u001b[0m\n\u001b[0m\u001b[1;32m   4341\u001b[0m \u001b[0;34m\u001b[0m\u001b[0m\n\u001b[1;32m   4342\u001b[0m             \u001b[0;32mif\u001b[0m \u001b[0mis_extension_array_dtype\u001b[0m\u001b[0;34m(\u001b[0m\u001b[0mmask\u001b[0m\u001b[0;34m.\u001b[0m\u001b[0mdtype\u001b[0m\u001b[0;34m)\u001b[0m\u001b[0;34m:\u001b[0m\u001b[0;34m\u001b[0m\u001b[0;34m\u001b[0m\u001b[0m\n",
      "\u001b[0;31mKeyError\u001b[0m: \"['speed' 'pickup_longitude_bin' 'pickup_latitude_bin'\\n 'dropoff_longitude_bin' 'dropoff_latitude_bin'] not found in axis\""
     ]
    }
   ],
   "source": [
    "# drop bins\n",
    "train = train.drop(['speed', 'pickup_longitude_bin', 'pickup_latitude_bin', 'dropoff_longitude_bin', 'dropoff_latitude_bin'], axis = 1)\n",
    "test = test.drop(['speed', 'pickup_longitude_bin', 'pickup_latitude_bin', 'dropoff_longitude_bin', 'dropoff_latitude_bin'], axis = 1)\n",
    "\n"
   ]
  },
  {
   "cell_type": "code",
   "execution_count": 20,
   "id": "792f1029",
   "metadata": {},
   "outputs": [
    {
     "data": {
      "text/plain": [
       "Index(['id', 'vendor_id', 'pickup_datetime', 'dropoff_datetime',\n",
       "       'passenger_count', 'pickup_longitude', 'pickup_latitude',\n",
       "       'dropoff_longitude', 'dropoff_latitude', 'store_and_fwd_flag',\n",
       "       'trip_duration', 'month', 'day', 'weekday', 'hour', 'minute',\n",
       "       'dist_long', 'dist_lat', 'dist', '0_x', '0_y', 'ave_speed_x',\n",
       "       'ave_speed_y', 'ave_speed_x', 'ave_speed_y', 'ave_speed_x',\n",
       "       'ave_speed_y', 'ave_speed'],\n",
       "      dtype='object')"
      ]
     },
     "execution_count": 20,
     "metadata": {},
     "output_type": "execute_result"
    }
   ],
   "source": [
    "# train.columns"
   ]
  },
  {
   "cell_type": "code",
   "execution_count": 24,
   "id": "be57dc74",
   "metadata": {},
   "outputs": [
    {
     "name": "stdout",
     "output_type": "stream",
     "text": [
      "<class 'pandas.core.frame.DataFrame'>\n",
      "RangeIndex: 8787 entries, 0 to 8786\n",
      "Data columns (total 14 columns):\n",
      " #   Column      Non-Null Count  Dtype  \n",
      "---  ------      --------------  -----  \n",
      " 0   Time        8787 non-null   object \n",
      " 1   Temp.       8787 non-null   float64\n",
      " 2   Windchill   2295 non-null   float64\n",
      " 3   Heat Index  815 non-null    float64\n",
      " 4   Humidity    8787 non-null   float64\n",
      " 5   Pressure    8556 non-null   float64\n",
      " 6   Dew Point   8787 non-null   float64\n",
      " 7   Visibility  8550 non-null   float64\n",
      " 8   Wind Dir    8787 non-null   object \n",
      " 9   Wind Speed  8787 non-null   float64\n",
      " 10  Gust Speed  8787 non-null   float64\n",
      " 11  Precip      8787 non-null   float64\n",
      " 12  Events      8787 non-null   object \n",
      " 13  Conditions  8787 non-null   object \n",
      "dtypes: float64(10), object(4)\n",
      "memory usage: 961.2+ KB\n"
     ]
    }
   ],
   "source": [
    "## weather data 불러오기\n",
    "weather = pd.read_csv('KNYC_Metars.csv')\n",
    "#weather.info()"
   ]
  },
  {
   "cell_type": "code",
   "execution_count": 25,
   "id": "23d53bef",
   "metadata": {},
   "outputs": [
    {
     "data": {
      "text/plain": [
       "0       2015-12-31 02:00:00\n",
       "1       2015-12-31 03:00:00\n",
       "2       2015-12-31 04:00:00\n",
       "3       2015-12-31 05:00:00\n",
       "4       2015-12-31 06:00:00\n",
       "               ...         \n",
       "8782    2017-01-01 21:00:00\n",
       "8783    2017-01-01 22:00:00\n",
       "8784    2017-01-01 23:00:00\n",
       "8785    2017-01-02 00:00:00\n",
       "8786    2017-01-02 01:00:00\n",
       "Name: Time, Length: 8787, dtype: object"
      ]
     },
     "execution_count": 25,
     "metadata": {},
     "output_type": "execute_result"
    }
   ],
   "source": [
    "weather['Time']"
   ]
  },
  {
   "cell_type": "code",
   "execution_count": 26,
   "id": "d526e5cd",
   "metadata": {},
   "outputs": [],
   "source": [
    "weather['Time'] = pd.to_datetime(weather['Time'])\n",
    "weather['year'] = weather['Time'].dt.year\n",
    "weather['month'] = weather['Time'].dt.month\n",
    "weather['day'] = weather['Time'].dt.day\n",
    "weather['hour'] = weather['Time'].dt.hour\n",
    "weather = weather[weather['year'] == 2016]"
   ]
  },
  {
   "cell_type": "code",
   "execution_count": 27,
   "id": "8309defe",
   "metadata": {},
   "outputs": [
    {
     "name": "stdout",
     "output_type": "stream",
     "text": [
      "<class 'pandas.core.frame.DataFrame'>\n",
      "Int64Index: 1458644 entries, 0 to 1458643\n",
      "Data columns (total 28 columns):\n",
      " #   Column              Non-Null Count    Dtype         \n",
      "---  ------              --------------    -----         \n",
      " 0   id                  1458644 non-null  object        \n",
      " 1   vendor_id           1458644 non-null  int64         \n",
      " 2   pickup_datetime     1458644 non-null  datetime64[ns]\n",
      " 3   dropoff_datetime    1458644 non-null  object        \n",
      " 4   passenger_count     1458644 non-null  int64         \n",
      " 5   pickup_longitude    1458644 non-null  float64       \n",
      " 6   pickup_latitude     1458644 non-null  float64       \n",
      " 7   dropoff_longitude   1458644 non-null  float64       \n",
      " 8   dropoff_latitude    1458644 non-null  float64       \n",
      " 9   store_and_fwd_flag  1458644 non-null  int64         \n",
      " 10  trip_duration       1458644 non-null  int64         \n",
      " 11  month               1458644 non-null  int64         \n",
      " 12  day                 1458644 non-null  int64         \n",
      " 13  weekday             1458644 non-null  int64         \n",
      " 14  hour                1458644 non-null  int64         \n",
      " 15  minute              1458644 non-null  int64         \n",
      " 16  dist_long           1458644 non-null  float64       \n",
      " 17  dist_lat            1458644 non-null  float64       \n",
      " 18  dist                1458644 non-null  float64       \n",
      " 19  0_x                 1458644 non-null  int64         \n",
      " 20  0_y                 1458644 non-null  int64         \n",
      " 21  ave_speed_x         1458644 non-null  float64       \n",
      " 22  ave_speed_y         1458644 non-null  float64       \n",
      " 23  ave_speed_x         1458644 non-null  float64       \n",
      " 24  ave_speed_y         1458644 non-null  float64       \n",
      " 25  ave_speed_x         1458644 non-null  float64       \n",
      " 26  ave_speed_y         1458644 non-null  float64       \n",
      " 27  ave_speed           1458644 non-null  float64       \n",
      "dtypes: datetime64[ns](1), float64(14), int64(11), object(2)\n",
      "memory usage: 322.7+ MB\n"
     ]
    }
   ],
   "source": [
    "train.info()"
   ]
  },
  {
   "cell_type": "code",
   "execution_count": 29,
   "id": "5fd23f0b",
   "metadata": {},
   "outputs": [],
   "source": [
    "# train, test data 와 날씨 데이터 결합\n",
    "train = pd.merge(train, weather[['Temp.', 'month', 'day', 'hour']], on = ['month', 'day', 'hour'], how = 'left')\n",
    "test = pd.merge(test, weather[['Temp.', 'month', 'day', 'hour']], on = ['month', 'day', 'hour'], how = 'left')\n"
   ]
  },
  {
   "cell_type": "code",
   "execution_count": 30,
   "id": "9146af7e",
   "metadata": {},
   "outputs": [],
   "source": [
    "## train / test features, y, id\n",
    "xtrain = train.drop(['id', 'pickup_datetime', 'dropoff_datetime', 'trip_duration'], axis = 1).values\n",
    "xtest = test.drop(['id', 'pickup_datetime',], axis =1).values\n",
    "\n",
    "ytrain = train['trip_duration'].values\n",
    "\n",
    "id_train = train['id'].values\n",
    "id_test = test['id'].values\n",
    "\n"
   ]
  },
  {
   "cell_type": "code",
   "execution_count": 31,
   "id": "a90b9a22",
   "metadata": {},
   "outputs": [],
   "source": [
    "del(train, test)"
   ]
  },
  {
   "cell_type": "code",
   "execution_count": 44,
   "id": "e6e608d0",
   "metadata": {},
   "outputs": [],
   "source": [
    "### xgb parameter\n",
    "params = {\n",
    "    'booster' : 'gbtree',\n",
    "    'obgective' : 'reg:squarederror',\n",
    "    'learning_rate' : 0.1,\n",
    "    'max_depth' : 14,\n",
    "    'subsample' : 0.8,\n",
    "    'colsample_bytree': 0.7,\n",
    "    'colsample_bylevel' : 0.7,\n",
    "    'verbosity' : 1\n",
    "}"
   ]
  },
  {
   "cell_type": "code",
   "execution_count": 48,
   "id": "4aceba11",
   "metadata": {},
   "outputs": [],
   "source": [
    "## number of rounds\n",
    "nrounds = 20"
   ]
  },
  {
   "cell_type": "code",
   "execution_count": 42,
   "id": "9e8d074a",
   "metadata": {},
   "outputs": [
    {
     "data": {
      "text/plain": [
       "array([6.12249281, 6.49828215, 7.66152708, ..., 6.63987583, 5.9242558 ,\n",
       "       5.29330482])"
      ]
     },
     "execution_count": 42,
     "metadata": {},
     "output_type": "execute_result"
    }
   ],
   "source": [
    "np.log(ytrain+1)"
   ]
  },
  {
   "cell_type": "code",
   "execution_count": null,
   "id": "6c07754b",
   "metadata": {},
   "outputs": [
    {
     "name": "stdout",
     "output_type": "stream",
     "text": [
      "Train model...\n",
      "[22:05:01] WARNING: /Users/runner/work/xgboost/xgboost/python-package/build/temp.macosx-10.9-x86_64-cpython-38/xgboost/src/learner.cc:767: \n",
      "Parameters: { \"obgective\" } are not used.\n",
      "\n"
     ]
    }
   ],
   "source": [
    "## train model\n",
    "print('Train model...')\n",
    "# xgb를 사용하기 위해 훈려 ㄴ데이터를 dmatrix형태로 변환\n",
    "# ytrain 데이터를 np.log(ytrain+1)을 하는 이유??? 아마 정규화와 관련있지 않을까,,\n",
    "dtrain = xgb.DMatrix(xtrain, np.log(ytrain+1))\n",
    "gbm = xgb.train(params,\n",
    "               dtrain,\n",
    "               num_boost_round = nrounds)"
   ]
  },
  {
   "cell_type": "code",
   "execution_count": 46,
   "id": "07abfb64",
   "metadata": {},
   "outputs": [
    {
     "ename": "NameError",
     "evalue": "name 'gbm' is not defined",
     "output_type": "error",
     "traceback": [
      "\u001b[0;31m---------------------------------------------------------------------------\u001b[0m",
      "\u001b[0;31mNameError\u001b[0m                                 Traceback (most recent call last)",
      "\u001b[0;32m/var/folders/cx/dsw_f6590_dbbf9c4vf4fyy40000gn/T/ipykernel_98470/80354539.py\u001b[0m in \u001b[0;36m<module>\u001b[0;34m\u001b[0m\n\u001b[1;32m      1\u001b[0m \u001b[0;31m## test predictions\u001b[0m\u001b[0;34m\u001b[0m\u001b[0;34m\u001b[0m\u001b[0m\n\u001b[0;32m----> 2\u001b[0;31m \u001b[0mpred_test\u001b[0m \u001b[0;34m=\u001b[0m \u001b[0mnp\u001b[0m\u001b[0;34m.\u001b[0m\u001b[0mexp\u001b[0m\u001b[0;34m(\u001b[0m\u001b[0mgbm\u001b[0m\u001b[0;34m.\u001b[0m\u001b[0mpredict\u001b[0m\u001b[0;34m(\u001b[0m\u001b[0mxgb\u001b[0m\u001b[0;34m.\u001b[0m\u001b[0mDMatrix\u001b[0m\u001b[0;34m(\u001b[0m\u001b[0mxtest\u001b[0m\u001b[0;34m)\u001b[0m\u001b[0;34m)\u001b[0m\u001b[0;34m)\u001b[0m \u001b[0;34m-\u001b[0m\u001b[0;36m1\u001b[0m\u001b[0;34m\u001b[0m\u001b[0;34m\u001b[0m\u001b[0m\n\u001b[0m",
      "\u001b[0;31mNameError\u001b[0m: name 'gbm' is not defined"
     ]
    }
   ],
   "source": [
    "## test predictions\n",
    "pred_test = np.exp(gbm.predict(xgb.DMatrix(xtest))) -1"
   ]
  },
  {
   "cell_type": "code",
   "execution_count": 47,
   "id": "52f76c39",
   "metadata": {},
   "outputs": [
    {
     "ename": "NameError",
     "evalue": "name 'pred_test' is not defined",
     "output_type": "error",
     "traceback": [
      "\u001b[0;31m---------------------------------------------------------------------------\u001b[0m",
      "\u001b[0;31mNameError\u001b[0m                                 Traceback (most recent call last)",
      "\u001b[0;32m/var/folders/cx/dsw_f6590_dbbf9c4vf4fyy40000gn/T/ipykernel_98470/1214542340.py\u001b[0m in \u001b[0;36m<module>\u001b[0;34m\u001b[0m\n\u001b[1;32m      1\u001b[0m \u001b[0;31m## create submisson\u001b[0m\u001b[0;34m\u001b[0m\u001b[0;34m\u001b[0m\u001b[0m\n\u001b[0;32m----> 2\u001b[0;31m \u001b[0mdf\u001b[0m \u001b[0;34m=\u001b[0m \u001b[0mpd\u001b[0m\u001b[0;34m.\u001b[0m\u001b[0mDataFrame\u001b[0m\u001b[0;34m(\u001b[0m\u001b[0;34m{\u001b[0m\u001b[0;34m'id'\u001b[0m \u001b[0;34m:\u001b[0m \u001b[0mid_test\u001b[0m\u001b[0;34m,\u001b[0m \u001b[0;34m'trip_duration'\u001b[0m \u001b[0;34m:\u001b[0m \u001b[0mpred_test\u001b[0m\u001b[0;34m}\u001b[0m\u001b[0;34m)\u001b[0m\u001b[0;34m\u001b[0m\u001b[0;34m\u001b[0m\u001b[0m\n\u001b[0m\u001b[1;32m      3\u001b[0m \u001b[0mdf\u001b[0m \u001b[0;34m=\u001b[0m \u001b[0mdf\u001b[0m\u001b[0;34m.\u001b[0m\u001b[0mset_index\u001b[0m\u001b[0;34m(\u001b[0m\u001b[0;34m'id'\u001b[0m\u001b[0;34m)\u001b[0m\u001b[0;34m\u001b[0m\u001b[0;34m\u001b[0m\u001b[0m\n\u001b[1;32m      4\u001b[0m \u001b[0mdf\u001b[0m\u001b[0;34m.\u001b[0m\u001b[0mto_csv\u001b[0m\u001b[0;34m(\u001b[0m\u001b[0;34m'sub_bench.csv'\u001b[0m\u001b[0;34m,\u001b[0m \u001b[0mindex\u001b[0m\u001b[0;34m=\u001b[0m\u001b[0;32mTrue\u001b[0m\u001b[0;34m)\u001b[0m\u001b[0;34m\u001b[0m\u001b[0;34m\u001b[0m\u001b[0m\n",
      "\u001b[0;31mNameError\u001b[0m: name 'pred_test' is not defined"
     ]
    }
   ],
   "source": [
    "## create submisson\n",
    "df = pd.DataFrame({'id' : id_test, 'trip_duration' : pred_test})\n",
    "df = df.set_index('id')\n",
    "df.to_csv('sub_bench.csv', index=True)"
   ]
  },
  {
   "cell_type": "code",
   "execution_count": null,
   "id": "41e4cfa7",
   "metadata": {},
   "outputs": [],
   "source": []
  }
 ],
 "metadata": {
  "kernelspec": {
   "display_name": "Python 3 (ipykernel)",
   "language": "python",
   "name": "python3"
  },
  "language_info": {
   "codemirror_mode": {
    "name": "ipython",
    "version": 3
   },
   "file_extension": ".py",
   "mimetype": "text/x-python",
   "name": "python",
   "nbconvert_exporter": "python",
   "pygments_lexer": "ipython3",
   "version": "3.9.13"
  },
  "toc": {
   "base_numbering": 1,
   "nav_menu": {},
   "number_sections": true,
   "sideBar": true,
   "skip_h1_title": false,
   "title_cell": "Table of Contents",
   "title_sidebar": "Contents",
   "toc_cell": false,
   "toc_position": {},
   "toc_section_display": true,
   "toc_window_display": false
  },
  "varInspector": {
   "cols": {
    "lenName": 16,
    "lenType": 16,
    "lenVar": 40
   },
   "kernels_config": {
    "python": {
     "delete_cmd_postfix": "",
     "delete_cmd_prefix": "del ",
     "library": "var_list.py",
     "varRefreshCmd": "print(var_dic_list())"
    },
    "r": {
     "delete_cmd_postfix": ") ",
     "delete_cmd_prefix": "rm(",
     "library": "var_list.r",
     "varRefreshCmd": "cat(var_dic_list()) "
    }
   },
   "types_to_exclude": [
    "module",
    "function",
    "builtin_function_or_method",
    "instance",
    "_Feature"
   ],
   "window_display": false
  }
 },
 "nbformat": 4,
 "nbformat_minor": 5
}
